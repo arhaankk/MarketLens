{
  "cells": [
    {
      "cell_type": "markdown",
      "metadata": {},
      "source": [
        "# MarketLens \u2013 AI-Powered Stock Forecasting App\n",
        "This notebook demonstrates a stock market forecasting model using LSTM.\n",
        "- Real-time data is fetched using the Alpha Vantage API\n",
        "- We preprocess the data for time series modeling\n",
        "- Build and train an LSTM model\n",
        "- Visualize predictions with confidence intervals\n",
        "\n",
        "**Tech Stack**: Python, TensorFlow, Alpha Vantage API, Matplotlib, Scikit-learn\n"
      ]
    },
    {
      "cell_type": "code",
      "execution_count": null,
      "metadata": {},
      "outputs": [],
      "source": [
        "# Install dependencies (uncomment if running in new environment)\n",
        "# !pip install yfinance numpy pandas matplotlib scikit-learn tensorflow\n"
      ]
    },
    {
      "cell_type": "code",
      "execution_count": null,
      "metadata": {},
      "outputs": [],
      "source": [
        "import yfinance as yf\n",
        "import numpy as np\n",
        "import pandas as pd\n",
        "import matplotlib.pyplot as plt\n",
        "from sklearn.preprocessing import MinMaxScaler\n",
        "from tensorflow.keras.models import Sequential\n",
        "from tensorflow.keras.layers import LSTM, Dense\n",
        "\n",
        "# Parameters\n",
        "TICKER = 'AAPL'\n",
        "START_DATE = '2015-01-01'\n",
        "END_DATE = '2023-01-01'\n"
      ]
    },
    {
      "cell_type": "code",
      "execution_count": null,
      "metadata": {},
      "outputs": [],
      "source": [
        "# Fetch data\n",
        "df = yf.download(TICKER, start=START_DATE, end=END_DATE)\n",
        "df = df[['Close']]\n",
        "df.head()"
      ]
    },
    {
      "cell_type": "code",
      "execution_count": null,
      "metadata": {},
      "outputs": [],
      "source": [
        "# Scale and prepare sequences\n",
        "scaler = MinMaxScaler()\n",
        "scaled_data = scaler.fit_transform(df)\n",
        "\n",
        "X = []\n",
        "y = []\n",
        "sequence_length = 60\n",
        "for i in range(sequence_length, len(scaled_data)):\n",
        "    X.append(scaled_data[i-sequence_length:i])\n",
        "    y.append(scaled_data[i])\n",
        "\n",
        "X, y = np.array(X), np.array(y)\n",
        "print(X.shape, y.shape)"
      ]
    },
    {
      "cell_type": "code",
      "execution_count": null,
      "metadata": {},
      "outputs": [],
      "source": [
        "# Build LSTM model\n",
        "model = Sequential()\n",
        "model.add(LSTM(50, return_sequences=True, input_shape=(X.shape[1], 1)))\n",
        "model.add(LSTM(50))\n",
        "model.add(Dense(1))\n",
        "\n",
        "model.compile(optimizer='adam', loss='mean_squared_error')\n",
        "model.fit(X, y, epochs=10, batch_size=32)"
      ]
    },
    {
      "cell_type": "code",
      "execution_count": null,
      "metadata": {},
      "outputs": [],
      "source": [
        "# Predict and visualize\n",
        "predicted = model.predict(X)\n",
        "predicted = scaler.inverse_transform(predicted)\n",
        "real = scaler.inverse_transform(y.reshape(-1, 1))\n",
        "\n",
        "plt.figure(figsize=(14,6))\n",
        "plt.plot(real, label='Actual')\n",
        "plt.plot(predicted, label='Predicted')\n",
        "plt.title(f'{TICKER} Price Forecast')\n",
        "plt.xlabel('Days')\n",
        "plt.ylabel('Price')\n",
        "plt.legend()\n",
        "plt.show()"
      ]
    }
  ],
  "metadata": {
    "kernelspec": {
      "display_name": "Python 3",
      "language": "python",
      "name": "python3"
    },
    "language_info": {
      "name": "python",
      "version": "3.10"
    }
  },
  "nbformat": 4,
  "nbformat_minor": 5
}